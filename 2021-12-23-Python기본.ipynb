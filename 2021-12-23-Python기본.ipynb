{
 "cells": [
  {
   "cell_type": "code",
   "execution_count": 1,
   "id": "26fcbf2a",
   "metadata": {},
   "outputs": [
    {
     "name": "stdout",
     "output_type": "stream",
     "text": [
      "100\n",
      "<class 'int'>\n"
     ]
    }
   ],
   "source": [
    "# Numeric Data Type\n",
    "a = 100\n",
    "print(a)\n",
    "\n",
    "# a라는 변수가 가리키는 객체(instance)의 class를 알고 싶은경우\n",
    "# type() 파이썬이 기본적으로 내장하고 있는 내장함수\n",
    "print(type(a패"
   ]
  },
  {
   "cell_type": "code",
   "execution_count": null,
   "id": "157dd016",
   "metadata": {},
   "outputs": [],
   "source": [
    "# Sequence Data Type\n",
    "# 순서를 가지고 있는 데이터 타입\n",
    "# 여러개의 데이터를 저장할수 있는 집합형 자료구조\n",
    "# 1. <class list> => 리스트\n",
    "# 2. <class tuple> => 튜플\n",
    "# 3. <class range> = > 레인지"
   ]
  },
  {
   "cell_type": "code",
   "execution_count": null,
   "id": "097ceeac",
   "metadata": {},
   "outputs": [],
   "source": [
    "# List는 임의의 객체를 순서대로 저장하는 집합형 자료구조\n",
    "# Java의 Arraylist와 유사\n",
    "#literal로 어떻게 나타나나요? (코드상에서 어떻게 표현하나요?)\n",
    "#list는 [](대괄호)를 이용해서 표현해요\n",
    "\n",
    "a = []\n",
    "a = [1,2,3]\n",
    "a = [1,2,3.14] #다른 data type도 같이 저장할수있어요!\n",
    "a = [1,[10,20],2] # 중첩 리스트도 가능\n",
    "\n",
    "print(a) # [1,[10,20],2]\n",
    "# 리스트의 기본 연산 => indexing, slicing"
   ]
  },
  {
   "cell_type": "code",
   "execution_count": 24,
   "id": "ac7b7c89",
   "metadata": {},
   "outputs": [
    {
     "name": "stdout",
     "output_type": "stream",
     "text": [
      "1\n",
      "[1, 100, 3, [10, 20, [50, 70, 100], 30], 4, 5]\n",
      "6\n",
      "70\n"
     ]
    }
   ],
   "source": [
    "# indexting이란 집합자료구조의 순서를 이용해서 값을 제어하는 방식\n",
    "# indexting을 하기 위해 사용하는 기호는 => []\n",
    "\n",
    "print(a[0]) # 1\n",
    "a[1]=100 # 해당 위치의 값을 변경\n",
    "print(a) # [1, 100 , 2]\n",
    "\n",
    "# python의 indexing은 다른 프로그래밍 언어와 약간 달라요\n",
    "# python은 minus indexing을 허용해요\n",
    "a= [1,2,3,4,5,6]\n",
    "print(a[-1]) # 6\n",
    "\n",
    "a= [1,2,3,[10,20,[50,70,100],30],4,5]\n",
    "print(a[3][2][1])"
   ]
  },
  {
   "cell_type": "code",
   "execution_count": 48,
   "id": "a49dc06d",
   "metadata": {},
   "outputs": [
    {
     "name": "stdout",
     "output_type": "stream",
     "text": [
      "[20, 30]\n",
      "[30, 40, 50, 60]\n",
      "[10, 20, 30, 40, 50, 60]\n"
     ]
    }
   ],
   "source": [
    "#indexing을 했으니 이번에는 slicing을 해 보아요!\n",
    "a = [10,20,30,40,50,60]\n",
    "#slicing도 기호는 indexing과 같은 기호를 이용해요!\n",
    "# a[이상 : 미만] !!!\n",
    "print(a[1:3]) # [20,30]\n",
    "# slicing은 원본의 일부를 잘라내는 기능하는 거에요!\n",
    "# 따라서 슬라이싱의 결과는 원본의 타입과 동일해요!\n",
    "print(a[2:]) # [30, 40, 50, 60]\n",
    "# 슬라이싱을 할 때 : 을 기준으로 앞의 숫자가 없으면\n",
    "# 처음부터, 뒤에 숫자가 없으면 끝까지의 의미에요!\n",
    "print(a[:])"
   ]
  },
  {
   "cell_type": "code",
   "execution_count": 26,
   "id": "e0ee4b57",
   "metadata": {},
   "outputs": [
    {
     "name": "stdout",
     "output_type": "stream",
     "text": [
      "[1, 2, 3, 4, 5, 6]\n",
      "[1, 2, 3, 1, 2, 3, 1, 2, 3]\n"
     ]
    }
   ],
   "source": [
    "# list의 또 다른 특성에 대해서 알아보아요!\n",
    "\n",
    "a = [1,2,3,]\n",
    "b = [4,5,6]\n",
    "print(a+b) # [1, 2, 3, 4, 5, 6]\n",
    "print(a*3) # [1, 2, 3, 1, 2, 3, 1, 2, 3]"
   ]
  },
  {
   "cell_type": "code",
   "execution_count": 20,
   "id": "beda8b78",
   "metadata": {},
   "outputs": [
    {
     "name": "stdout",
     "output_type": "stream",
     "text": [
      "1\n",
      "5\n",
      "[1, 2, [10, 20, 30], 4, 5]\n",
      "[1, 2, 100, 5]\n",
      "[1, 200, 100, 5]\n"
     ]
    }
   ],
   "source": [
    "a = [1,2,3,4,5]\n",
    "print(a[0]) #1\n",
    "print(a[-1]) #5\n",
    "# print(a[10]) # IndexError: list index out of range\n",
    "a[2] = [10,20,30]\n",
    "print(a) # [1, 2, [10, 20, 30], 4, 5]\n",
    "a[2:-1] = [100]\n",
    "print(a)\n",
    "a[1] = 200\n",
    "print(a)\n",
    "a = [1,2,3,4,5] # [1,2,3,5]\n",
    "del a[3]  # 이런 del 키워드는 거의 안쓴다\n",
    "print(a)\n",
    "a = [1,2,3,4,5] # [1,2,3,5]\n",
    "a[3:4]=[]  \n",
    "print(a)"
   ]
  },
  {
   "cell_type": "code",
   "execution_count": 65,
   "id": "880424a9",
   "metadata": {},
   "outputs": [
    {
     "name": "stdout",
     "output_type": "stream",
     "text": [
      "[1, 2, 3, 4, 5, 6]\n",
      "<built-in method sort of list object at 0x000001A9DB373340>\n",
      "[5, 8, 1, 10, 2, 7, 6]\n",
      "[1, 2, 5, 6, 7, 8, 10]\n",
      "[5, 8, 1, 10, 2, 7, 6]\n",
      "[1, 2, 5, 6, 7, 8, 10]\n",
      "[10, 8, 7, 6, 5, 2, 1]\n"
     ]
    }
   ],
   "source": [
    "# 지금까지 list의 특징에 대해서 알아보았어요!\n",
    "# 포현법, 연산, indexing, slicing\n",
    "# 이제 list가 가지고 있는 method에 대해서 알아보아요!\n",
    "# 너무 많아서 일일이 다 하는건 의미가 없어요!\n",
    "# 그래서 인간적으로 이건 기억하자는 몇가지 method만 알아보아요!\n",
    "\n",
    "a = [1,2,3,4,5]\n",
    "# 리스트내 새로운 요소를 추가하려면?\n",
    "a.append(6) #append는 무조건 맨 마지막 칸을 만들어서 값을 집어넣어요!\n",
    "print(a) # [1, 2, 3, 4, 5, 6]\n",
    "a = [5, 8, 1, 10, 2, 7, 6]\n",
    "#정렬의 기본은 오름차순이에요\n",
    "result = a.sort # return이 없어요!! 원본데이터를 정렬해요!\n",
    "print(result) #None\n",
    "print(a) #None\n",
    "# sort()는 method\n",
    "# 객체지향에서.. class의 instance가 가지고 있는 데이터가 있어요!\n",
    "# method는 일반적으로 이 데이터를 제어하는 역할을 수행!\n",
    "\n",
    "#함수계열은 그렇지 않아요!\n",
    "#python은 여러개의 내장함수를 제공해요 (type(), print())\n",
    "#정렬하는 내장함수가 있어요!\n",
    "a = [5, 8, 1, 10, 2, 7, 6]\n",
    "result = sorted(a)\n",
    "print(result)\n",
    "print(a)\n",
    "\n",
    "#리스트를 내림차순정렬하려면 어떻게?\n",
    "a = [5, 8, 1, 10, 2, 7, 6]\n",
    "a.sort()\n",
    "print(a)\n",
    "a.reverse()\n",
    "print(a)"
   ]
  },
  {
   "cell_type": "code",
   "execution_count": 4,
   "id": "921e3feb",
   "metadata": {},
   "outputs": [
    {
     "name": "stdout",
     "output_type": "stream",
     "text": [
      "100\n",
      "<class 'int'>\n",
      "2647696889296\n",
      "2647696889296\n",
      "2647696894352\n",
      "2647696894352\n",
      "2647776337136\n",
      "2647776725552\n",
      "2647776804800\n",
      "2647776805760\n",
      "True\n"
     ]
    }
   ],
   "source": [
    "a = 100\n",
    "print(a) # a가 가지고 있는 메모리주소의 해쉬값을 이용해서\n",
    "         # 그 메모리 주소를 찾아가서 해당 객체가 가지고 있는 데이터를 출력\n",
    "print(type(a)) # a가 가지고 있는 메모리주소의 해쉬값을 이용해서\n",
    "              # 그 메모리 주소를 찾아가서 해당 객체의 class을 알아내는 함수\n",
    "print(id(a))  # a가 가지고 있는 메모리주소의 해쉬값 출력\n",
    "\n",
    "b = 100\n",
    "print(id(b))\n",
    "\n",
    "a = 256  #0~256 까지는 사용빈도가높아 동일한 해쉬값이 적용된다\n",
    "b = 256\n",
    "print(id(a))\n",
    "print(id(b))\n",
    "\n",
    "a = 257\n",
    "b = 257\n",
    "print(id(a))\n",
    "print(id(b))\n",
    "\n",
    "a = [1, 2, 3]\n",
    "b = [1, 2, 3]\n",
    "print(id(a))\n",
    "print(id(b))\n",
    "\n",
    "#python은 비교를 할 때 일반적인 비교연산자 == 와 특수한 비교연산자 is를 제공\n",
    "# == 이 연산을 많이 사용하는데 이 연산자는 값을 비교하는 연산자\n",
    "print(a==b)"
   ]
  },
  {
   "cell_type": "code",
   "execution_count": 3,
   "id": "c0c34781",
   "metadata": {},
   "outputs": [],
   "source": [
    "# 리스트를 만드는 또 다른 방법(empty list 생성)\n",
    "# 기본방법은\n",
    "a = [1,2,3]\n",
    "# list는 어디에서부터 파생되냐하면.. <class.list>\n",
    "a = list()  #[]\n",
    "a = []"
   ]
  },
  {
   "cell_type": "code",
   "execution_count": 28,
   "id": "91faf769",
   "metadata": {},
   "outputs": [
    {
     "name": "stdout",
     "output_type": "stream",
     "text": [
      "<class 'tuple'>\n",
      "<class 'tuple'>\n",
      "3\n",
      "(2, 3, 4)\n",
      "(1, 2, 3, [4, 100, 6], 7, 8)\n",
      "(1, 2, 3, 4, 5)\n",
      "[1, 2, 3, 4, 5]\n"
     ]
    }
   ],
   "source": [
    "#Sequence Data Type\n",
    "# 1. list\n",
    "# 2. tuple\n",
    "# 3. range\n",
    "\n",
    "# tuple => list와 거의 유사해요!\n",
    "# list는 [] 기호를 이용해서 표현해요!\n",
    "a = [1,2,3]\n",
    "# tuple은 ()기호를 이용해서 표현해요!\n",
    "a = (1,2,3)\n",
    "a = [1] # 요소가 1개인 list\n",
    "b = (1,) # 요소가 1개인 tuple, 괄호랑 구분하기 위해 , 사용\n",
    "print(type(b))\n",
    "a = (1, 2, 3)\n",
    "print(type(a))\n",
    "#tuple은 괄호를 생략할 수 있어요\n",
    "a = 1, 2, 3\n",
    "a, b, c = 1, 2, 3\n",
    "\n",
    "#tuple은 list와 대동소이 해요! (동작방식이 거의 비슷해요)\n",
    "a = (1,2,(3,4),5,[6,7,8]) # 중첩 tuple 가능\n",
    "\n",
    "#indexing과 slicing은 되나요? -> list가 되니까 tuple도 되요!\n",
    "a = (1,2,3,4,5)\n",
    "print(a[2])\n",
    "print(a[1:4])\n",
    "#a[0] = 100   # TypeError: 'tuple' object does not support item assignment\n",
    "# tuple과 list의 가장 큰 차이 : tuple은 내부 값을 변경할수 없다\n",
    "# read only list라고 인식하면 되요!\n",
    "a = (1,2,3,[4,5,6],7,8)\n",
    "a[3][1]=100 # tuple 안의 list 변경 가능\n",
    "print(a)\n",
    "\n",
    "#list보다 제약이 있는 자료구조(데이터타입) 이 tuple\n",
    "#그러면 이런 tuple을 많이 사용할까요? => 상당히 많이 등장~!\n",
    "a = tuple()    # 비어있는 tuple을 생성해요! 그런데 크게 의미는 없어요!\n",
    "a = [1,2,3,4,5]\n",
    "b = tuple(a)  #리스트를 tuple로 바꿀 수 있어요!\n",
    "print(b) # (1, 2, 3, 4, 5)\n",
    "c = list(b)\n",
    "print(c) # [1, 2, 3, 4, 5]"
   ]
  },
  {
   "cell_type": "code",
   "execution_count": 37,
   "id": "9d846392",
   "metadata": {},
   "outputs": [
    {
     "name": "stdout",
     "output_type": "stream",
     "text": [
      "range(0, 10)\n",
      "3\n"
     ]
    }
   ],
   "source": [
    "#Sequence Data Type\n",
    "# 1. list\n",
    "# 2. tuple\n",
    "# 3. range\n",
    "\n",
    "# range (범위)\n",
    "# list와 tuple은 실제 데이터를 저장하고 있어요!\n",
    "a = [1,2,3,4,5,6,7,8,9,10]\n",
    "# range는 실제 데이터를 가지고 있지 않아요. 범위에 대한 의미\n",
    "# 실제 데이터를 가지고 있지 않아서.. 주로 for문에서 반복의 의미로 사용\n",
    "\n",
    "#a = range(시작, 끝, 증감)\n",
    "a = range(1,10,1) # 시작 이상 끝 미만!!! - 1~9, 1씩 증가하는 정수\n",
    "a = range(0,10,1) # 시작이 0이고 증감이 1이면 생략할수있어요\n",
    "# a = range(10)\n",
    "print(a)\n",
    "print(a[3]) # 실제로 값을 가지고 있진 않지만 indexing과 slicing은 되요!"
   ]
  },
  {
   "cell_type": "code",
   "execution_count": 52,
   "id": "84a49a52",
   "metadata": {},
   "outputs": [
    {
     "name": "stdout",
     "output_type": "stream",
     "text": [
      "HelloWorld\n",
      "i\n",
      "s is \n",
      "t\n",
      "THIS IS A SAMPLE TEXT\n",
      "나는 사과를 {}개, 바나나를 {}개 가지고 있어요\n",
      "나는 사과를 1개, 바나나를 10개 가지고 있어요\n",
      "Hellow3\n"
     ]
    }
   ],
   "source": [
    "# 3. Text Sequence Type\n",
    "# <class str>\n",
    "# list 안에 텍스트가 들어있는 개념\n",
    "\n",
    "# java는 한글자(character)는 ' '기호로, 여러글자(string)는 \"  \"기호로 이용하지만\n",
    "# python은 문자와 문자열의 구분이 없음. 따라서 기호도 ' ', \" \"구분이 없어요\n",
    "# 가능하면' '를 권장\n",
    "first = 'Hello'\n",
    "second = \"World\"\n",
    "print(first + second) # list의 연결 => 결국은 문자열 연결\n",
    "\n",
    "txt = 'this is a sample text'\n",
    "print(txt[2]) # i\n",
    "print(txt[3:8]) # s is \n",
    "print(txt[-1]) # t\n",
    "\n",
    "# method 2개만 알아보아요!\n",
    "print(txt.upper()) # 대문자\n",
    "my_txt = '나는 사과를 3개, 바나나를 5개 가지고 있어요'\n",
    "fruit_txt = '나는 사과를 {}개, 바나나를 {}개 가지고 있어요'\n",
    "print(fruit_txt)\n",
    "no_apple = 1\n",
    "no_banana = 10\n",
    "new_txt = fruit_txt.format(no_apple,no_banana)\n",
    "print(new_txt)\n",
    "\n",
    "#많이 하는 실수\n",
    "#print('Hellow'+3) # TypeError: can only concatenate str (not \"int\") to str\n",
    "#Java는 되나 python은 안됨(자동변환 x)\n",
    "print('Hellow'+str(3))\n",
    "\n",
    "#문자열은 너무 자주사용하는 데이터 타입이라서 제공되는 "
   ]
  },
  {
   "cell_type": "code",
   "execution_count": 59,
   "id": "194b9dcd",
   "metadata": {},
   "outputs": [
    {
     "name": "stdout",
     "output_type": "stream",
     "text": [
      "<class 'dict'>\n",
      "홍길동\n",
      "이건 숫자에요!\n",
      "이건 tuple이에요!\n"
     ]
    }
   ],
   "source": [
    "#4. Mapping \n",
    "# <class dict>\n",
    "# dictionary (딕셔너리)\n",
    "# 어떻게 생겼나요??\n",
    "# {}를 이용해요. 중괄호 안에 Key와 Value의 쌍으로 표현\n",
    "a = {'name' : '홍길동',\n",
    "     10 : '이건 숫자에요!',\n",
    "     (1,2,3) : '이건 tuple이에요!',\n",
    "     'addr' : '서울',\n",
    "     'age' : 20\n",
    "    }\n",
    "# dict는 순서 개념이 없어요!\n",
    "print(type(a))\n",
    "# print(a[0]) # Error, indexing안됨\n",
    "print(a['name'])\n",
    "print(a[10])\n",
    "print(a[(1,2,3)])"
   ]
  },
  {
   "cell_type": "code",
   "execution_count": 62,
   "id": "e5f042ca",
   "metadata": {},
   "outputs": [],
   "source": [
    "# a = {'name' : '홍길동',\n",
    "#      10 : '이건 숫자에요!',\n",
    "#      (1,2,3) : '이건 tuple이에요!',\n",
    "#      'addr' : '서울',\n",
    "#      'age' : 20,\n",
    "#      [1,2,3]: '이건 리스트에요!' #  TypeError: unhashable type: 'list'\n",
    "#     }\n",
    "\n",
    "# dict 의 key값은 immutable 한 값으로 사용해야 해요!\n",
    "# immutable = 불변의\n",
    "# 따라서 값이 변할 수 있는 list는 key로 사용을 할 수 없어요!\n",
    "# 그래서 일반적으로 key는 대체로 문자열을 이용해요!\n",
    "# 원래 이렇게 순서개념없이 키와 밸류의 쌍으로 데이터를 저장하는 자료구조를 dict라고 해요\n",
    "# 순서가 있는 dict은 최신 python에서 따로 제공이 되나 가급적 순서로 dict사용을 지양하세요"
   ]
  },
  {
   "cell_type": "code",
   "execution_count": 70,
   "id": "78cb012e",
   "metadata": {},
   "outputs": [
    {
     "name": "stdout",
     "output_type": "stream",
     "text": [
      "아이유\n",
      "{'name': '홍길동', 'age': 20}\n",
      "{'name': '홍길동', 'age': 20, 'addr': '서울'}\n",
      "{'name': '홍길동', 'age': 20}\n"
     ]
    }
   ],
   "source": [
    "a = {\n",
    "    'name' : '아이유',\n",
    "    'age' : 20\n",
    "}\n",
    "print(a['name'])  #아이유\n",
    "a['name'] = '홍길동'\n",
    "\n",
    "print(a) # {'name' : '홍길동', 'age' : 20}\n",
    "a['addr'] = '서울' # 이렇게 추가 가능\n",
    "print(a)\n",
    "\n",
    "a = {\n",
    "    'name' : '아이유',\n",
    "    'age' : 20,\n",
    "    'name' : '홍길동',\n",
    "} # 키가 중복되네요? 원칙은 Error이나 python은 이걸 허용함 하지만 바람직하지않다\n",
    "print(a)"
   ]
  },
  {
   "cell_type": "code",
   "execution_count": 77,
   "id": "c6f7a2d6",
   "metadata": {},
   "outputs": [
    {
     "name": "stdout",
     "output_type": "stream",
     "text": [
      "{1, 2, 3, 4, 5}\n",
      "{1, 2, 3, 4, 5, 7}\n",
      "{1, 2, 3, 4, 5}\n",
      "{1, 2, 3, 4, 5, 6, 7}\n",
      "{1, 2, 3, 4, 5}\n",
      "{1, 2, 4, 5}\n"
     ]
    }
   ],
   "source": [
    "s = {1, 2, 3, 4, 5}\n",
    "print(s)\n",
    "s.add(7)\n",
    "print(s)\n",
    "s = {1,2,3,4,5}\n",
    "print(s)\n",
    "s.update({4,5,6,7})\n",
    "print(s)\n",
    "\n",
    "#set 안의 데이터를 삭제하려면 어떻게 해야 하나요?\n",
    "s = {1,2,3,4,5}\n",
    "print(s)\n",
    "s.remove(3)\n",
    "print(s)"
   ]
  },
  {
   "cell_type": "code",
   "execution_count": 79,
   "id": "f404db25",
   "metadata": {},
   "outputs": [
    {
     "name": "stdout",
     "output_type": "stream",
     "text": [
      "<class 'bool'>\n"
     ]
    }
   ],
   "source": [
    "# 5. Set\n",
    "# <class set>\n",
    "# 6. Bool\n",
    "# <class bool> => True, False (대소문자 구별)\n",
    "\n",
    "a = True\n",
    "print(type(a)) # <class 'bool'>"
   ]
  }
 ],
 "metadata": {
  "kernelspec": {
   "display_name": "Python 3 (ipykernel)",
   "language": "python",
   "name": "python3"
  },
  "language_info": {
   "codemirror_mode": {
    "name": "ipython",
    "version": 3
   },
   "file_extension": ".py",
   "mimetype": "text/x-python",
   "name": "python",
   "nbconvert_exporter": "python",
   "pygments_lexer": "ipython3",
   "version": "3.9.7"
  }
 },
 "nbformat": 4,
 "nbformat_minor": 5
}
