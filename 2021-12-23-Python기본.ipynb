{
 "cells": [
  {
   "cell_type": "code",
   "execution_count": 1,
   "id": "26fcbf2a",
   "metadata": {},
   "outputs": [
    {
     "name": "stdout",
     "output_type": "stream",
     "text": [
      "100\n",
      "<class 'int'>\n"
     ]
    }
   ],
   "source": [
    "# Numeric Data Type\n",
    "a = 100\n",
    "print(a)\n",
    "\n",
    "# a라는 변수가 가리키는 객체(instance)의 class를 알고 싶은경우\n",
    "# type() 파이썬이 기본적으로 내장하고 있는 내장함수\n",
    "print(type(a패"
   ]
  },
  {
   "cell_type": "code",
   "execution_count": null,
   "id": "157dd016",
   "metadata": {},
   "outputs": [],
   "source": [
    "# Sequence Data Type\n",
    "# 순서를 가지고 있는 데이터 타입\n",
    "# 여러개의 데이터를 저장할수 있는 집합형 자료구조\n",
    "# 1. <class list> => 리스트\n",
    "# 2. <class tuple> => 튜플\n",
    "# 3. <class range> = > 레인지"
   ]
  },
  {
   "cell_type": "code",
   "execution_count": null,
   "id": "097ceeac",
   "metadata": {},
   "outputs": [],
   "source": [
    "# List는 임의의 객체를 순서대로 저장하는 집합형 자료구조\n",
    "# Java의 Arraylist와 유사\n",
    "#literal로 어떻게 나타나나요? (코드상에서 어떻게 표현하나요?)\n",
    "#list는 [](대괄호)를 이용해서 표현해요\n",
    "\n",
    "a = []\n",
    "a = [1,2,3]\n",
    "a = [1,2,3.14] #다른 data type도 같이 저장할수있어요!\n",
    "a = [1,[10,20],2] # 중첩 리스트도 가능\n",
    "\n",
    "print(a) # [1,[10,20],2]\n",
    "# 리스트의 기본 연산 => indexing, slicing"
   ]
  },
  {
   "cell_type": "code",
   "execution_count": 24,
   "id": "ac7b7c89",
   "metadata": {},
   "outputs": [
    {
     "name": "stdout",
     "output_type": "stream",
     "text": [
      "1\n",
      "[1, 100, 3, [10, 20, [50, 70, 100], 30], 4, 5]\n",
      "6\n",
      "70\n"
     ]
    }
   ],
   "source": [
    "# indexting이란 집합자료구조의 순서를 이용해서 값을 제어하는 방식\n",
    "# indexting을 하기 위해 사용하는 기호는 => []\n",
    "\n",
    "print(a[0]) # 1\n",
    "a[1]=100 # 해당 위치의 값을 변경\n",
    "print(a) # [1, 100 , 2]\n",
    "\n",
    "# python의 indexing은 다른 프로그래밍 언어와 약간 달라요\n",
    "# python은 minus indexing을 허용해요\n",
    "a= [1,2,3,4,5,6]\n",
    "print(a[-1]) # 6\n",
    "\n",
    "a= [1,2,3,[10,20,[50,70,100],30],4,5]\n",
    "print(a[3][2][1])"
   ]
  },
  {
   "cell_type": "code",
   "execution_count": 48,
   "id": "a49dc06d",
   "metadata": {},
   "outputs": [
    {
     "name": "stdout",
     "output_type": "stream",
     "text": [
      "[20, 30]\n",
      "[30, 40, 50, 60]\n",
      "[10, 20, 30, 40, 50, 60]\n"
     ]
    }
   ],
   "source": [
    "#indexing을 했으니 이번에는 slicing을 해 보아요!\n",
    "a = [10,20,30,40,50,60]\n",
    "#slicing도 기호는 indexing과 같은 기호를 이용해요!\n",
    "# a[이상 : 미만] !!!\n",
    "print(a[1:3]) # [20,30]\n",
    "# slicing은 원본의 일부를 잘라내는 기능하는 거에요!\n",
    "# 따라서 슬라이싱의 결과는 원본의 타입과 동일해요!\n",
    "print(a[2:]) # [30, 40, 50, 60]\n",
    "# 슬라이싱을 할 때 : 을 기준으로 앞의 숫자가 없으면\n",
    "# 처음부터, 뒤에 숫자가 없으면 끝까지의 의미에요!\n",
    "print(a[:])"
   ]
  },
  {
   "cell_type": "code",
   "execution_count": 26,
   "id": "e0ee4b57",
   "metadata": {},
   "outputs": [
    {
     "name": "stdout",
     "output_type": "stream",
     "text": [
      "[1, 2, 3, 4, 5, 6]\n",
      "[1, 2, 3, 1, 2, 3, 1, 2, 3]\n"
     ]
    }
   ],
   "source": [
    "# list의 또 다른 특성에 대해서 알아보아요!\n",
    "\n",
    "a = [1,2,3,]\n",
    "b = [4,5,6]\n",
    "print(a+b) # [1, 2, 3, 4, 5, 6]\n",
    "print(a*3) # [1, 2, 3, 1, 2, 3, 1, 2, 3]"
   ]
  },
  {
   "cell_type": "code",
   "execution_count": 20,
   "id": "beda8b78",
   "metadata": {},
   "outputs": [
    {
     "name": "stdout",
     "output_type": "stream",
     "text": [
      "1\n",
      "5\n",
      "[1, 2, [10, 20, 30], 4, 5]\n",
      "[1, 2, 100, 5]\n",
      "[1, 200, 100, 5]\n"
     ]
    }
   ],
   "source": [
    "a = [1,2,3,4,5]\n",
    "print(a[0]) #1\n",
    "print(a[-1]) #5\n",
    "# print(a[10]) # IndexError: list index out of range\n",
    "a[2] = [10,20,30]\n",
    "print(a) # [1, 2, [10, 20, 30], 4, 5]\n",
    "a[2:-1] = [100]\n",
    "print(a)\n",
    "a[1] = 200\n",
    "print(a)\n",
    "a = [1,2,3,4,5] # [1,2,3,5]\n",
    "del a[3]  # 이런 del 키워드는 거의 안쓴다\n",
    "print(a)\n",
    "a = [1,2,3,4,5] # [1,2,3,5]\n",
    "a[3:4]=[]  \n",
    "print(a)"
   ]
  },
  {
   "cell_type": "code",
   "execution_count": 65,
   "id": "880424a9",
   "metadata": {},
   "outputs": [
    {
     "name": "stdout",
     "output_type": "stream",
     "text": [
      "[1, 2, 3, 4, 5, 6]\n",
      "<built-in method sort of list object at 0x000001A9DB373340>\n",
      "[5, 8, 1, 10, 2, 7, 6]\n",
      "[1, 2, 5, 6, 7, 8, 10]\n",
      "[5, 8, 1, 10, 2, 7, 6]\n",
      "[1, 2, 5, 6, 7, 8, 10]\n",
      "[10, 8, 7, 6, 5, 2, 1]\n"
     ]
    }
   ],
   "source": [
    "# 지금까지 list의 특징에 대해서 알아보았어요!\n",
    "# 포현법, 연산, indexing, slicing\n",
    "# 이제 list가 가지고 있는 method에 대해서 알아보아요!\n",
    "# 너무 많아서 일일이 다 하는건 의미가 없어요!\n",
    "# 그래서 인간적으로 이건 기억하자는 몇가지 method만 알아보아요!\n",
    "\n",
    "a = [1,2,3,4,5]\n",
    "# 리스트내 새로운 요소를 추가하려면?\n",
    "a.append(6) #append는 무조건 맨 마지막 칸을 만들어서 값을 집어넣어요!\n",
    "print(a) # [1, 2, 3, 4, 5, 6]\n",
    "a = [5, 8, 1, 10, 2, 7, 6]\n",
    "#정렬의 기본은 오름차순이에요\n",
    "result = a.sort # return이 없어요!! 원본데이터를 정렬해요!\n",
    "print(result) #None\n",
    "print(a) #None\n",
    "# sort()는 method\n",
    "# 객체지향에서.. class의 instance가 가지고 있는 데이터가 있어요!\n",
    "# method는 일반적으로 이 데이터를 제어하는 역할을 수행!\n",
    "\n",
    "#함수계열은 그렇지 않아요!\n",
    "#python은 여러개의 내장함수를 제공해요 (type(), print())\n",
    "#정렬하는 내장함수가 있어요!\n",
    "a = [5, 8, 1, 10, 2, 7, 6]\n",
    "result = sorted(a)\n",
    "print(result)\n",
    "print(a)\n",
    "\n",
    "#리스트를 내림차순정렬하려면 어떻게?\n",
    "a = [5, 8, 1, 10, 2, 7, 6]\n",
    "a.sort()\n",
    "print(a)\n",
    "a.reverse()\n",
    "print(a)"
   ]
  },
  {
   "cell_type": "code",
   "execution_count": 4,
   "id": "921e3feb",
   "metadata": {},
   "outputs": [
    {
     "name": "stdout",
     "output_type": "stream",
     "text": [
      "100\n",
      "<class 'int'>\n",
      "2647696889296\n",
      "2647696889296\n",
      "2647696894352\n",
      "2647696894352\n",
      "2647776337136\n",
      "2647776725552\n",
      "2647776804800\n",
      "2647776805760\n",
      "True\n"
     ]
    }
   ],
   "source": [
    "a = 100\n",
    "print(a) # a가 가지고 있는 메모리주소의 해쉬값을 이용해서\n",
    "         # 그 메모리 주소를 찾아가서 해당 객체가 가지고 있는 데이터를 출력\n",
    "print(type(a)) # a가 가지고 있는 메모리주소의 해쉬값을 이용해서\n",
    "              # 그 메모리 주소를 찾아가서 해당 객체의 class을 알아내는 함수\n",
    "print(id(a))  # a가 가지고 있는 메모리주소의 해쉬값 출력\n",
    "\n",
    "b = 100\n",
    "print(id(b))\n",
    "\n",
    "a = 256  #0~256 까지는 사용빈도가높아 동일한 해쉬값이 적용된다\n",
    "b = 256\n",
    "print(id(a))\n",
    "print(id(b))\n",
    "\n",
    "a = 257\n",
    "b = 257\n",
    "print(id(a))\n",
    "print(id(b))\n",
    "\n",
    "a = [1, 2, 3]\n",
    "b = [1, 2, 3]\n",
    "print(id(a))\n",
    "print(id(b))\n",
    "\n",
    "#python은 비교를 할 때 일반적인 비교연산자 == 와 특수한 비교연산자 is를 제공\n",
    "# == 이 연산을 많이 사용하는데 이 연산자는 값을 비교하는 연산자\n",
    "print(a==b)"
   ]
  },
  {
   "cell_type": "code",
   "execution_count": 3,
   "id": "c0c34781",
   "metadata": {},
   "outputs": [],
   "source": [
    "# 리스트를 만드는 또 다른 방법(empty list 생성)\n",
    "# 기본방법은\n",
    "a = [1,2,3]\n",
    "# list는 어디에서부터 파생되냐하면.. <class.list>\n",
    "a = list()  #[]\n",
    "a = []"
   ]
  },
  {
   "cell_type": "code",
   "execution_count": 28,
   "id": "35c79f70",
   "metadata": {},
   "outputs": [
    {
     "name": "stdout",
     "output_type": "stream",
     "text": [
      "<class 'tuple'>\n",
      "<class 'tuple'>\n",
      "3\n",
      "(2, 3, 4)\n",
      "(1, 2, 3, [4, 100, 6], 7, 8)\n",
      "(1, 2, 3, 4, 5)\n",
      "[1, 2, 3, 4, 5]\n"
     ]
    }
   ],
   "source": [
    "#Sequence Data Type\n",
    "# 1. list\n",
    "# 2. tuple\n",
    "# 3. range\n",
    "\n",
    "# tuple => list와 거의 유사해요!\n",
    "# list는 [] 기호를 이용해서 표현해요!\n",
    "a = [1,2,3]\n",
    "# tuple은 ()기호를 이용해서 표현해요!\n",
    "a = (1,2,3)\n",
    "a = [1] # 요소가 1개인 list\n",
    "b = (1,) # 요소가 1개인 tuple, 괄호랑 구분하기 위해 , 사용\n",
    "print(type(b))\n",
    "a = (1, 2, 3)\n",
    "print(type(a))\n",
    "#tuple은 괄호를 생략할 수 있어요\n",
    "a = 1, 2, 3\n",
    "a, b, c = 1, 2, 3\n",
    "\n",
    "#tuple은 list와 대동소이 해요! (동작방식이 거의 비슷해요)\n",
    "a = (1,2,(3,4),5,[6,7,8]) # 중첩 tuple 가능\n",
    "\n",
    "#indexing과 slicing은 되나요? -> list가 되니까 tuple도 되요!\n",
    "a = (1,2,3,4,5)\n",
    "print(a[2])\n",
    "print(a[1:4])\n",
    "#a[0] = 100   # TypeError: 'tuple' object does not support item assignment\n",
    "# tuple과 list의 가장 큰 차이 : tuple은 내부 값을 변경할수 없다\n",
    "# read only list라고 인식하면 되요!\n",
    "a = (1,2,3,[4,5,6],7,8)\n",
    "a[3][1]=100 # tuple 안의 list 변경 가능\n",
    "print(a)\n",
    "\n",
    "#list보다 제약이 있는 자료구조(데이터타입) 이 tuple\n",
    "#그러면 이런 tuple을 많이 사용할까요? => 상당히 많이 등장~!\n",
    "a = tuple()    # 비어있는 tuple을 생성해요! 그런데 크게 의미는 없어요!\n",
    "a = [1,2,3,4,5]\n",
    "b = tuple(a)  #리스트를 tuple로 바꿀 수 있어요!\n",
    "print(b) # (1, 2, 3, 4, 5)\n",
    "c = list(b)\n",
    "print(c) # [1, 2, 3, 4, 5]"
   ]
  },
  {
   "cell_type": "code",
   "execution_count": 37,
   "id": "f8bf6fcc",
   "metadata": {},
   "outputs": [
    {
     "name": "stdout",
     "output_type": "stream",
     "text": [
      "range(0, 10)\n",
      "3\n"
     ]
    }
   ],
   "source": [
    "#Sequence Data Type\n",
    "# 1. list\n",
    "# 2. tuple\n",
    "# 3. range\n",
    "\n",
    "# range (범위)\n",
    "# list와 tuple은 실제 데이터를 저장하고 있어요!\n",
    "a = [1,2,3,4,5,6,7,8,9,10]\n",
    "# range는 실제 데이터를 가지고 있지 않아요. 범위에 대한 의미\n",
    "# 실제 데이터를 가지고 있지 않아서.. 주로 for문에서 반복의 의미로 사용\n",
    "\n",
    "#a = range(시작, 끝, 증감)\n",
    "a = range(1,10,1) # 시작 이상 끝 미만!!! - 1~9, 1씩 증가하는 정수\n",
    "a = range(0,10,1) # 시작이 0이고 증감이 1이면 생략할수있어요\n",
    "# a = range(10)\n",
    "print(a)\n",
    "print(a[3]) # 실제로 값을 가지고 있진 않지만 indexing과 slicing은 되요!"
   ]
  },
  {
   "cell_type": "code",
   "execution_count": null,
   "id": "664f6fc8",
   "metadata": {},
   "outputs": [],
   "source": [
    "# 6개의 data type중 "
   ]
  }
 ],
 "metadata": {
  "kernelspec": {
   "display_name": "Python 3 (ipykernel)",
   "language": "python",
   "name": "python3"
  },
  "language_info": {
   "codemirror_mode": {
    "name": "ipython",
    "version": 3
   },
   "file_extension": ".py",
   "mimetype": "text/x-python",
   "name": "python",
   "nbconvert_exporter": "python",
   "pygments_lexer": "ipython3",
   "version": "3.9.7"
  }
 },
 "nbformat": 4,
 "nbformat_minor": 5
}
