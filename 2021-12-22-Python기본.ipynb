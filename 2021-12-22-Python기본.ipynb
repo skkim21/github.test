{
 "cells": [
  {
   "cell_type": "code",
   "execution_count": 3,
   "id": "7592b50f",
   "metadata": {},
   "outputs": [
    {
     "name": "stdout",
     "output_type": "stream",
     "text": [
      "Hello World\n"
     ]
    }
   ],
   "source": [
    "# 이 녹색의 박스를 cell이라고 불러요!\n",
    "# 그리고 python의 주석은 #을 사용하면 되요!\n",
    "# 이 cell안에 python code를 작성해요~\n",
    "\n",
    "#변수선언\n",
    "a = 100\n",
    "#출력을 해봐요\n",
    "\n",
    "print('Hello World')\n",
    "\n",
    "#Java는 소스코드를 만들고 javac로 컴파일해요. ->bytecode.class파일이 생성\n",
    "#.class를 java 인터프리터로 해석해서 실행하는 구조\n",
    "\n",
    "#jupyter notebook은 ipython을 기반으로 해요!"
   ]
  },
  {
   "cell_type": "code",
   "execution_count": null,
   "id": "33ec1345",
   "metadata": {},
   "outputs": [],
   "source": [
    "#b key는 below의 약자, 현재 선택된 cell 아래쪽에 새로운 cell을 만들어요!\n",
    "#cell을 지우고 싶어요!! dd 하면 선택된 cell을 지을 수 있어요!~\n",
    "#a key는 above의 약자에요. 위쪽이라는 말이죠.\n",
    "#현재 선택된 cell 위쪽에 새로운 cell을 만들어요!"
   ]
  },
  {
   "cell_type": "code",
   "execution_count": 7,
   "id": "04829c39",
   "metadata": {},
   "outputs": [],
   "source": [
    "#python 배울때 가장 적응안되는것중 하나가 \n",
    "#indentation (들여쓰기) 에요! - 띄어쓰면 에러남 .. 왜? 처음에 교육용으로 제작되어서.. 올바른습관...\n",
    "a=100\n",
    "\n",
    "#한줄 주석은 #이에요! 만약 어러줄 주석을 하려면 코드 블럭을 선택하고 \n",
    "#ctrl + / 를 이용하면 여러줄 주석이 설정되요!\n",
    "\n",
    "#여러줄 주석은\n",
    "...\n",
    "이 안에 들어있는 모든 내용은 주석이에요!\n",
    "..."
   ]
  },
  {
   "cell_type": "code",
   "execution_count": 8,
   "id": "e2718d85",
   "metadata": {
    "scrolled": true
   },
   "outputs": [
    {
     "name": "stdout",
     "output_type": "stream",
     "text": [
      "100\n"
     ]
    }
   ],
   "source": [
    "#변수의 생성과 삭제\n",
    "a=100\n",
    "\n",
    "print(a)\n",
    "\n",
    "del a #python은 변수를 지을 수 있어요 (메모리에서 삭제할수 있어요)\n",
    "#print(a) # ERROR"
   ]
  },
  {
   "cell_type": "code",
   "execution_count": null,
   "id": "e11ace2c",
   "metadata": {},
   "outputs": [],
   "source": [
    "#Python의 Data Type\n",
    "#일반적으로 다른 언어는.. 데이터 타입과 자료구조를 구분해요!\n",
    "#Python은 Data Type안에 자료구조도 같이 들어가 있어요!!\n",
    "\n",
    "#Python의 built-in Data type\n",
    "#총 6개의 범주가 있어요!\n",
    "#1. Numeric\n",
    "#1-1. 정수 => <class int>\n",
    "#1-2. 실수 => <class float>\n",
    "#1-3. 복소수 => <class complex>\n",
    "#2. Sequence\n",
    "#3. Text Sequence\n",
    "#4. Mapping\n",
    "#5. Set\n",
    "#6. Bool"
   ]
  },
  {
   "cell_type": "code",
   "execution_count": 5,
   "id": "a811642b",
   "metadata": {},
   "outputs": [
    {
     "name": "stdout",
     "output_type": "stream",
     "text": [
      "<class 'int'>\n",
      "<class 'float'>\n",
      "0.75\n",
      "1\n"
     ]
    }
   ],
   "source": [
    "a=100\n",
    "#a의 data type을 알고 싶어요!\n",
    "#python에는 type()이라는 내장함수가 존재.\n",
    "print(type(a))\n",
    "\n",
    "b=3.1415926535\n",
    "print(type(b))\n",
    "\n",
    "#프로그래밍 언어에서 모든 연산은 기본적으로 같은 데이터 타입끼리 발생\n",
    "#그 결과도 같은 데이터 타입\n",
    "# a = 3 + 1.0\n",
    "# a = 3.0 + 1.0 변환\n",
    "c = 3/4\n",
    "print(c) #다른엉어에서는 데이터타입때문에 0이지만 python은 달라요!\n",
    "\n",
    "#나머지 연산자( % )\n",
    "d = 10%3\n",
    "print(d)"
   ]
  }
 ],
 "metadata": {
  "kernelspec": {
   "display_name": "Python 3 (ipykernel)",
   "language": "python",
   "name": "python3"
  },
  "language_info": {
   "codemirror_mode": {
    "name": "ipython",
    "version": 3
   },
   "file_extension": ".py",
   "mimetype": "text/x-python",
   "name": "python",
   "nbconvert_exporter": "python",
   "pygments_lexer": "ipython3",
   "version": "3.9.7"
  }
 },
 "nbformat": 4,
 "nbformat_minor": 5
}
